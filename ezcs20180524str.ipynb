{
 "cells": [
  {
   "cell_type": "markdown",
   "metadata": {},
   "source": [
    "# 一、字符串练习"
   ]
  },
  {
   "cell_type": "code",
   "execution_count": 7,
   "metadata": {},
   "outputs": [],
   "source": [
    "#! /usr/bin/env python\n",
    "# -*- coding: utf-8 -*-\n",
    "# __author__ = \"DaChao\"\n",
    "# Date: 2017/6/7\n",
    "\n",
    "# x = \"234567ASDsdfghj\"  #切片和索引\n",
    "# print(x[2:-2])\n",
    "# print(x[2])\n",
    "\n",
    "# x = \"hello\"     #显示字符串长度，注意是从1开始\n",
    "# print(len(x))\n",
    "\n",
    "# x = \"hello world ASDF\"  #返回长度为100的字符串，并在左侧填充0\n",
    "# print(x.zfill(100))\n"
   ]
  },
  {
   "cell_type": "code",
   "execution_count": null,
   "metadata": {},
   "outputs": [],
   "source": [
    "# x = \"hello world ASDF\"  #小写变为大写\n",
    "# print(x.upper())\n",
    "\n",
    "# x = \"234567ASDsdfghj\"  #大写变为小写\n",
    "# print(x.lower())\n",
    "\n",
    "# x = \"234567sdfghj\"  #判断是否含有至少一个区分大小写的字符，并且这些都是小写\n",
    "# # print(x.islower())\n",
    "\n",
    "# x = \"hello world\"   #返回标题化字符串\n",
    "# print(x.title())\n",
    "\n",
    "# x = \"Hello World\"   #翻转字符串中的大小写\n",
    "# print(x.swapcase())\n"
   ]
  },
  {
   "cell_type": "code",
   "execution_count": null,
   "metadata": {
    "scrolled": true
   },
   "outputs": [],
   "source": [
    "# x = \"     hello world     \"     #同时执行lstrip和rstrip，删除两边\n",
    "# print(x.strip())\n",
    "\n",
    "# x = \"hello world\"   #检测开头或结尾\n",
    "# print(x.startswith('hea'))\n",
    "\n",
    "# x = \"hello world\"\n",
    "# print(x.endswith('o',0,5))\n",
    "\n",
    "# x = \"234567ASDsd\\nfASDghjASD\"  #以\\n行分隔，返回一个包含元素的列表\n",
    "# print(x.splitlines(True))\n",
    "\n",
    "# x = \"234567ASDsdfASDghjASD\"  #以A分隔x，并可指定次数\n",
    "# print(x.split('A',2))\n",
    "\n",
    "#x = \"234567ASDsdfASDghjASD\"  #替换字符串，并且可指定次数\n",
    "#print(x.replace('ASD','ABC',2))\n",
    "\n",
    "# x = \"234567ASDsdfghj\"  #以7为中间符，分割x\n",
    "# print(x.partition('7'))\n",
    "\n",
    "# x = \"234567ASDZzsdfghj\"  #返回x中最大的字母（小写）\n",
    "# print((max(x)))\n",
    "\n",
    "# x = \"121   234567ASDsdfghj\"  #截掉x左边的1\n",
    "# print(x.lstrip('1'))\n",
    "\n",
    "# x = \"234567sdfghj\"  #左对齐，并以*填充剩余数量（20）\n",
    "# print(x.ljust(20,'*'))\n",
    "\n",
    "# x = \"*\"  #以x为分隔符重新生成y\n",
    "# y = \"abc\"\n",
    "# print(x.join(y))\n"
   ]
  },
  {
   "cell_type": "code",
   "execution_count": null,
   "metadata": {},
   "outputs": [],
   "source": [
    "# x = \"Asdf112321 Gh123J\"  #判断是否首字符为大写，其它为小写\n",
    "# print(x.istitle())\n",
    "\n",
    "# x = \"  \"  #判断是否只包含空格\n",
    "# print(x.isspace())\n",
    "\n",
    "# x = \"一二234\"  #判断是否只包含*数字字符* Unicode数字，全角数字（双字节），罗马数字，汉字数字\n",
    "# print(x.isnumeric())\n",
    "\n",
    "# x = \"234567\"  #判断是否全为数字,False: 汉字数字\n",
    "# print(x.isdigit())\n",
    "\n",
    "# x = \"234567sdfghj\"  #判断是否全为十进制数字 \n",
    "# print(x.isdecimal())\n",
    "\n",
    "# x = \"234567sdfghj\"  #判断是否全为字母\n",
    "# print(x.isalpha())\n",
    "\n",
    "# x = \"234567sdfghj\"  #判断是否全为字母或数字\n",
    "# print(x.isalnum())"
   ]
  },
  {
   "cell_type": "code",
   "execution_count": null,
   "metadata": {},
   "outputs": [],
   "source": [
    "# x = \"hello world\"   #index同find，但查不到，会返回异常！！！\n",
    "# print(x.index('a'))\n",
    "\n",
    "# x = \"hello world\"   #find查找字符串并返回索引值\n",
    "# print(x.find('d'))\n",
    "\n",
    "# x = \"name:{2},age:{1},sex:{0}\"  #format格式化字符串\n",
    "# print(x.format('chao','18','male'))\n",
    "\n",
    "# x = \"name:{},age:{},sex:{}\"\n",
    "# print(x.format('chao','18','male'))\n",
    "\n",
    "# x = \"hello \\tworld\"   #\\t tab符号\n",
    "# print(x.expandtabs(100))\n",
    "\n",
    "# x = \"hello world\"    #在指定范围内，返回l的次数\n",
    "# print(x.count('l',3,10))\n",
    "\n",
    "# x = \"hello world\"    #中间插入字符串，两边填充*\n",
    "# print(x.center(30,'*'))"
   ]
  },
  {
   "cell_type": "markdown",
   "metadata": {},
   "source": [
    "# 二、字符串作业"
   ]
  },
  {
   "cell_type": "code",
   "execution_count": null,
   "metadata": {},
   "outputs": [],
   "source": [
    "\n",
    "'''\n",
    "work1：编写for循环，利用索引遍历出每一个字符\n",
    "'''\n",
    "w = \"My daughter has some cartoon characters on her shirt.\"\n",
    "\n",
    "'''\n",
    "work2: 编写while循环，利用索引遍历出每一个字符\n",
    "'''\n",
    "w = \"My daughter has some cartoon characters on her shirt.\"\n",
    "\n",
    "\n",
    "'''\n",
    "work3: msg='hello alex'中的alex替换成world\n",
    "'''\n",
    "msg = 'hello alex'\n",
    "\n",
    "\n",
    "'''\n",
    "work4: msg='/etc/a.txt|365|get' 将该字符的文件名，文件大小，操作方法切割出来\n",
    "'''\n",
    "msg = '/etc/a.txt|365|get'\n",
    "\n",
    "\n",
    "\n",
    "'''\n",
    "work5: 编写while循环，要求用户输入命令，如果命令为空，则继续输入\n",
    "'''\n",
    "\n",
    "\n",
    "'''\n",
    "work6: 编写while循环，让用户输入用户名和密码，如果用户为空或者数字，则重新输入\n",
    "'''\n",
    "\n",
    "'''\n",
    "work7: 打印99乘法表\n",
    "'''\n"
   ]
  },
  {
   "cell_type": "markdown",
   "metadata": {},
   "source": [
    "## 参考:http://www.runoob.com/python/python-strings.html"
   ]
  }
 ],
 "metadata": {
  "kernelspec": {
   "display_name": "Python 3",
   "language": "python",
   "name": "python3"
  },
  "language_info": {
   "codemirror_mode": {
    "name": "ipython",
    "version": 3
   },
   "file_extension": ".py",
   "mimetype": "text/x-python",
   "name": "python",
   "nbconvert_exporter": "python",
   "pygments_lexer": "ipython3",
   "version": "3.6.4"
  }
 },
 "nbformat": 4,
 "nbformat_minor": 2
}
